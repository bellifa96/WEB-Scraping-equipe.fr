{
  "nbformat": 4,
  "nbformat_minor": 0,
  "metadata": {
    "colab": {
      "name": "Scraping.ipynb",
      "provenance": [],
      "collapsed_sections": [
        "JdOlPBvtVp8W",
        "AloBeWISTDtG",
        "d9q6eFOiaeGm",
        "mDsijJDIamMC",
        "WCAaHXWjarJj",
        "SH3ofWg2Tv5W",
        "RVmvWb5Xa9MJ",
        "NYh4MMqEdntV"
      ]
    },
    "kernelspec": {
      "name": "python3",
      "display_name": "Python 3"
    },
    "language_info": {
      "name": "python"
    }
  },
  "cells": [
    {
      "cell_type": "markdown",
      "metadata": {
        "id": "qfv0C4ncJvaw"
      },
      "source": [
        "# Projet Scraping ( scraper https://www.lequipe.fr/ )\n",
        "\n",
        "Nous allons en premier temps scraper les données de l'euro 2021\n",
        "\n",
        "__Questions: \n",
        "\n",
        "Phase de groupe\n",
        "\n",
        "* Quelles ont-été les équipes les performantes durant la phase de groupe de l'euro 2021 ?\n",
        "\n",
        "* Quelles ont été les meilleures attaques de la phase de groupe de l'euro 2021 ?\n",
        "\n",
        "* Quelles ont été les meilleures défenses de la phase de groupe de l'euro 2021 ?\n",
        "\n",
        "Demi-finales\n",
        "\n",
        "* Parmis les équipes présentent en demi de finales, retrouve-t-on les équipes qui ont été les plus performantes durant la phase groupe ? \n",
        "\n",
        "\n",
        "La finale\n",
        "\n",
        "* être parmis les meilleurs défenses et meilleures attaques de la phase de groupe contribue-t-il à gagner l'euro ?\n",
        "\n",
        "Meilleurs buteurs de l'euro  \n",
        "* Quels sont les meilleurs buteurs de l'euro 2021 ?"
      ]
    },
    {
      "cell_type": "markdown",
      "metadata": {
        "id": "JdOlPBvtVp8W"
      },
      "source": [
        "### **Pré-requis**\n"
      ]
    },
    {
      "cell_type": "code",
      "metadata": {
        "colab": {
          "base_uri": "https://localhost:8080/"
        },
        "id": "0CgvC6gA9YPM",
        "outputId": "48e18609-d46a-4464-d0e1-fa32473a5f4e"
      },
      "source": [
        "!pip install requests\n",
        "!pip install bs4\n",
        "!pip install pprint"
      ],
      "execution_count": null,
      "outputs": [
        {
          "output_type": "stream",
          "name": "stdout",
          "text": [
            "Requirement already satisfied: requests in /usr/local/lib/python3.7/dist-packages (2.23.0)\n",
            "Requirement already satisfied: certifi>=2017.4.17 in /usr/local/lib/python3.7/dist-packages (from requests) (2021.10.8)\n",
            "Requirement already satisfied: idna<3,>=2.5 in /usr/local/lib/python3.7/dist-packages (from requests) (2.10)\n",
            "Requirement already satisfied: urllib3!=1.25.0,!=1.25.1,<1.26,>=1.21.1 in /usr/local/lib/python3.7/dist-packages (from requests) (1.24.3)\n",
            "Requirement already satisfied: chardet<4,>=3.0.2 in /usr/local/lib/python3.7/dist-packages (from requests) (3.0.4)\n",
            "Requirement already satisfied: bs4 in /usr/local/lib/python3.7/dist-packages (0.0.1)\n",
            "Requirement already satisfied: beautifulsoup4 in /usr/local/lib/python3.7/dist-packages (from bs4) (4.6.3)\n",
            "\u001b[31mERROR: Could not find a version that satisfies the requirement pprint (from versions: none)\u001b[0m\n",
            "\u001b[31mERROR: No matching distribution found for pprint\u001b[0m\n"
          ]
        }
      ]
    },
    {
      "cell_type": "code",
      "metadata": {
        "id": "4Qsl7mjiCVNT"
      },
      "source": [
        "import requests\n",
        "from bs4 import BeautifulSoup\n",
        "from pprint import pprint"
      ],
      "execution_count": null,
      "outputs": []
    },
    {
      "cell_type": "markdown",
      "metadata": {
        "id": "AloBeWISTDtG"
      },
      "source": [
        "### **Phase de groupe**"
      ]
    },
    {
      "cell_type": "code",
      "metadata": {
        "id": "BfBVLd_z8e49"
      },
      "source": [
        "url = \"https://www.lequipe.fr/Football/euro/page-calendrier-resultats/tous-les-groupes\"\n",
        "html = requests.get(url)\n",
        "bsObj = BeautifulSoup(html.content, \"lxml\")\n",
        "\n",
        "list_equipe = bsObj.find_all({\"tr\"}, {\"class\":\"table__row\"})\n",
        "equipe_points = []\n",
        "equipe_attaquants = []\n",
        "equipe_defenseur = []\n",
        "\n",
        "for item in list_equipe :\n",
        "    nom = item.find({\"td\"}, {\"class\": \"table__col--name\"})\n",
        "    points = item.find({\"td\"}, {\"class\": \"table__col--points\"})\n",
        "    buts = item.find_all({\"td\"}, {\"class\": \"min--tablet\"})\n",
        "    if nom is not None and points is not None: equipe_points.append([nom.getText(strip=True), int(points.getText(strip=True))])\n",
        "    if nom is not None and buts is not None: equipe_attaquants.append([nom.getText(strip=True), int(buts[0].getText(strip=True))])\n",
        "    if nom is not None and buts is not None: equipe_defenseur.append([nom.getText(strip=True), int(buts[1].getText(strip=True))])"
      ],
      "execution_count": null,
      "outputs": []
    },
    {
      "cell_type": "markdown",
      "metadata": {
        "id": "d9q6eFOiaeGm"
      },
      "source": [
        "##### **Equipes les plus performantes**"
      ]
    },
    {
      "cell_type": "code",
      "metadata": {
        "colab": {
          "base_uri": "https://localhost:8080/"
        },
        "id": "WRshWMYnN7VV",
        "outputId": "eb893428-4f71-4900-f444-9d8502dddf60"
      },
      "source": [
        "classements_points = sorted(equipe_points, key=lambda x:x[1], reverse=True)\n",
        "pprint(classement_points[:10])"
      ],
      "execution_count": null,
      "outputs": [
        {
          "output_type": "stream",
          "name": "stdout",
          "text": [
            "[['Pays-Bas', 9],\n",
            " ['Belgique', 9],\n",
            " ['Italie', 9],\n",
            " ['Suède', 7],\n",
            " ['Angleterre', 7],\n",
            " ['Autriche', 6],\n",
            " ['France', 5],\n",
            " ['Espagne', 5],\n",
            " ['Portugal', 4],\n",
            " ['Allemagne', 4]]\n"
          ]
        }
      ]
    },
    {
      "cell_type": "markdown",
      "metadata": {
        "id": "mDsijJDIamMC"
      },
      "source": [
        "##### **Meilleures équipes en attaque**"
      ]
    },
    {
      "cell_type": "code",
      "metadata": {
        "colab": {
          "base_uri": "https://localhost:8080/"
        },
        "id": "fhrxdXxgN7iA",
        "outputId": "4ae78e05-c4a4-4246-df86-c7fa9eb877bb"
      },
      "source": [
        "classements_attaquants = sorted(equipe_attaquants, key=lambda x:x[1], reverse=True)\n",
        "pprint(classements_attaquants[:5])"
      ],
      "execution_count": null,
      "outputs": [
        {
          "output_type": "stream",
          "name": "stdout",
          "text": [
            "[['Pays-Bas', 8],\n",
            " ['Italie', 7],\n",
            " ['Belgique', 7],\n",
            " ['Portugal', 7],\n",
            " ['Espagne', 6]]\n"
          ]
        }
      ]
    },
    {
      "cell_type": "markdown",
      "metadata": {
        "id": "WCAaHXWjarJj"
      },
      "source": [
        "##### **Meilleures équipes en défense**"
      ]
    },
    {
      "cell_type": "code",
      "metadata": {
        "id": "KrOYwqFk9jN1",
        "colab": {
          "base_uri": "https://localhost:8080/"
        },
        "outputId": "2aae794f-9adc-48ae-b67c-e8906763f0eb"
      },
      "source": [
        "classements_defenseurs = sorted(equipe_defenseur, key=lambda x:x[1])\n",
        "pprint(classements_defenseurs[:5])"
      ],
      "execution_count": null,
      "outputs": [
        {
          "output_type": "stream",
          "name": "stdout",
          "text": [
            "[['Italie', 0],\n",
            " ['Angleterre', 0],\n",
            " ['Belgique', 1],\n",
            " ['Espagne', 1],\n",
            " ['Pays de Galles', 2]]\n"
          ]
        }
      ]
    },
    {
      "cell_type": "markdown",
      "metadata": {
        "id": "SH3ofWg2Tv5W"
      },
      "source": [
        "### **Demi finale**"
      ]
    },
    {
      "cell_type": "code",
      "metadata": {
        "colab": {
          "base_uri": "https://localhost:8080/"
        },
        "id": "ubf_NravTuj_",
        "outputId": "d2d83415-068a-4f68-ac1c-2713552c93ca"
      },
      "source": [
        "url = \"https://www.lequipe.fr/Football/euro/page-calendrier-resultats/demi-finales\"\n",
        "html = requests.get(url)\n",
        "bsObj = BeautifulSoup(html.content, \"lxml\")\n",
        "\n",
        "list_equipe_df = bsObj.find_all({\"span\"}, {\"class\":\"TeamScore__nameshort\"})\n",
        "list_equipe_df_text = []\n",
        "\n",
        "for item in list_equipe_df :\n",
        "    list_equipe_df_text.append(item.getText(strip=True))\n",
        "\n",
        "pprint(list_equipe_df_text)"
      ],
      "execution_count": null,
      "outputs": [
        {
          "output_type": "stream",
          "name": "stdout",
          "text": [
            "['Italie', 'Espagne', 'Angleterre', 'Danemark']\n"
          ]
        }
      ]
    },
    {
      "cell_type": "code",
      "metadata": {
        "colab": {
          "base_uri": "https://localhost:8080/"
        },
        "id": "atWJAWm-XWeD",
        "outputId": "5aaceec5-36bb-4db4-cf02-41431a0ec5ab"
      },
      "source": [
        "print(\"Equipes en demi-finale qui faisaient parties des équipes les plus performantes durant la phase de groupe:\")\n",
        "for equipe_groupes in classement_points[:10]:\n",
        "  for equipe_df in list_equipe_df_text:\n",
        "    if equipe_groupes[0] == equipe_df:\n",
        "      print(f\"- {equipe_df}\")"
      ],
      "execution_count": null,
      "outputs": [
        {
          "output_type": "stream",
          "name": "stdout",
          "text": [
            "Equipes en demi-finale qui faisaient parties des équipes les plus performantes durant la phase de groupe:\n",
            "- Italie\n",
            "- Angleterre\n",
            "- Espagne\n"
          ]
        }
      ]
    },
    {
      "cell_type": "markdown",
      "metadata": {
        "id": "RVmvWb5Xa9MJ"
      },
      "source": [
        "### **Finale**"
      ]
    },
    {
      "cell_type": "code",
      "metadata": {
        "colab": {
          "base_uri": "https://localhost:8080/"
        },
        "id": "MZ6T3u3LbBUj",
        "outputId": "142c3570-911f-41a3-f71f-bc59cbbec10b"
      },
      "source": [
        "url = \"https://www.lequipe.fr/Football/euro/page-calendrier-resultats/demi-finales\"\n",
        "html = requests.get(url)\n",
        "bsObj = BeautifulSoup(html.content, \"lxml\")\n",
        "\n",
        "gagnant_euro = bsObj.find({\"div\"}, {\"class\":\"TeamScore__team--winner\"}).getText(strip=True)\n",
        "\n",
        "for attaquant in equipe_attaquants:\n",
        "  for defenseur in equipe_defenseur:\n",
        "    if attaquant[0] == gagnant_euro and defenseur[0] == gagnant_euro:\n",
        "      print(f\"{gagnant_euro} fait parti des meilleures équipes en attaque et en défense et à gagner l'Euro 2021\")"
      ],
      "execution_count": null,
      "outputs": [
        {
          "output_type": "stream",
          "name": "stdout",
          "text": [
            "Italie fait parti des meilleures équipes en attaque et en défense et à gagner l'Euro 2021\n"
          ]
        }
      ]
    },
    {
      "cell_type": "markdown",
      "metadata": {
        "id": "uirjhvStcbUk"
      },
      "source": [
        "**Etant donné les résultats ci-dessus, nous pouvons dire qu'être parmi les meilleurs en attaque et en défense contribue à remporter l'Euro 2021**"
      ]
    },
    {
      "cell_type": "markdown",
      "metadata": {
        "id": "NYh4MMqEdntV"
      },
      "source": [
        "### **Meilleurs buteurs**"
      ]
    },
    {
      "cell_type": "code",
      "metadata": {
        "colab": {
          "base_uri": "https://localhost:8080/"
        },
        "id": "FrCuJephduuA",
        "outputId": "5c0c0955-785f-4762-8819-1ce1e1965642"
      },
      "source": [
        "url = \"https://www.lequipe.fr/Football/euro/page-classement-individuel/buteurs\"\n",
        "html = requests.get(url)\n",
        "bsObj = BeautifulSoup(html.content, \"lxml\")\n",
        "\n",
        "buteurs = bsObj.find_all({\"tr\"}, {\"class\":\"table__row\"})\n",
        "\n",
        "for buteur in buteurs:\n",
        "  nom_buteur = buteur.find({\"a\"}, {\"class\":\"table__playerName\"})\n",
        "  nom_equipe = buteur.find({\"div\"}, {\"class\":\"table__teamName\"})\n",
        "  nombre_but = buteur.find({\"span\"}, {\"class\":\"table__col--sorted\"})\n",
        "  \n",
        "  if nom_buteur is not None and nombre_but is not None and nom_equipe is not None:\n",
        "    nom_buteur = nom_buteur.getText(strip=True).replace(nom_equipe.getText(strip=True), \"\")\n",
        "    print(f\"{nom_buteur} avec {nombre_but.getText(strip=True)} buts\")"
      ],
      "execution_count": null,
      "outputs": [
        {
          "output_type": "stream",
          "name": "stdout",
          "text": [
            "Cristiano Ronaldo avec 5 buts\n",
            "Romelu Lukaku avec 3 buts\n",
            "Georginio Wijnaldum avec 3 buts\n",
            "Robert Lewandowski avec 3 buts\n",
            "Patrik Schick avec 3 buts\n",
            "Emil Forsberg avec 3 buts\n",
            "Ciro Immobile avec 2 buts\n",
            "Manuel Locatelli avec 2 buts\n",
            "Kai Havertz avec 2 buts\n",
            "Raheem Sterling avec 2 buts\n",
            "Ivan Perisic avec 2 buts\n",
            "Yussuf Yurary Poulsen avec 2 buts\n",
            "Karim Benzema avec 2 buts\n",
            "Memphis Depay avec 2 buts\n",
            "Denzel Dumfries avec 2 buts\n",
            "Xherdan Shaqiri avec 2 buts\n",
            "Roman Yaremchuk avec 2 buts\n",
            "Andrei Yarmolenko avec 2 buts\n",
            "Leon Goretzka avec 1 buts\n",
            "Marko Arnautovic avec 1 buts\n",
            "Michael Gregoritsch avec 1 buts\n",
            "Kevin De Bruyne avec 1 buts\n",
            "Thorgan Hazard avec 1 buts\n",
            "Mikkel Damsgaard avec 1 buts\n",
            "Lorenzo Insigne avec 1 buts\n",
            "Matteo Pessina avec 1 buts\n",
            "Karol Linetty avec 1 buts\n",
            "Robin Gosens avec 1 buts\n",
            "Christoph Baumgartner avec 1 buts\n",
            "Stefan Lainer avec 1 buts\n",
            "Thomas Meunier avec 1 buts\n",
            "Luka Modric avec 1 buts\n",
            "Nikola Vlasic avec 1 buts\n",
            "Andreas Christensen avec 1 buts\n",
            "Joakim Maehle avec 1 buts\n",
            "Aymeric Laporte avec 1 buts\n",
            "Alvaro Morata avec 1 buts\n",
            "Pablo Sarabia avec 1 buts\n",
            "Ferran Torres avec 1 buts\n",
            "Joel Pohjanpalo avec 1 buts\n",
            "Antoine Griezmann avec 1 buts\n",
            "Attila Fiola avec 1 buts\n",
            "Andras Schafer avec 1 buts\n",
            "Adam Szalai avec 1 buts\n",
            "Ezgjan Alioski avec 1 buts\n",
            "Goran Pandev avec 1 buts\n",
            "Kieffer Moore avec 1 buts\n",
            "Aaron Ramsey avec 1 buts\n",
            "Connor Roberts avec 1 buts\n",
            "Wout Weghorst avec 1 buts\n",
            "Raphaël Guerreiro avec 1 buts\n",
            "Diogo Jota avec 1 buts\n",
            "Artem Dziouba avec 1 buts\n",
            "Alexeï Mirantchouk avec 1 buts\n",
            "Milan Skriniar avec 1 buts\n",
            "Breel Donald Embolo avec 1 buts\n",
            "Haris Seferovic avec 1 buts\n",
            "Viktor Claesson avec 1 buts\n",
            "Irfan Can Kahveci avec 1 buts\n",
            "Callum McGregor avec 1 buts\n"
          ]
        }
      ]
    }
  ]
}